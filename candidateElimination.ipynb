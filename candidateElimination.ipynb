{
  "nbformat": 4,
  "nbformat_minor": 0,
  "metadata": {
    "colab": {
      "name": "candidateElimination.ipynb",
      "provenance": [],
      "collapsed_sections": [],
      "toc_visible": true,
      "include_colab_link": true
    },
    "kernelspec": {
      "name": "python3",
      "display_name": "Python 3"
    },
    "language_info": {
      "name": "python"
    }
  },
  "cells": [
    {
      "cell_type": "markdown",
      "metadata": {
        "id": "view-in-github",
        "colab_type": "text"
      },
      "source": [
        "<a href=\"https://colab.research.google.com/github/kk10-x/ML-Lab/blob/main/candidateElimination.ipynb\" target=\"_parent\"><img src=\"https://colab.research.google.com/assets/colab-badge.svg\" alt=\"Open In Colab\"/></a>"
      ]
    },
    {
      "cell_type": "markdown",
      "metadata": {
        "id": "oQoaCxj-WhqW"
      },
      "source": [
        "# Candidate Elimination Algorithm\n",
        "## Khrithik S Anand\n",
        "## 1BM18CS046"
      ]
    },
    {
      "cell_type": "code",
      "metadata": {
        "colab": {
          "base_uri": "https://localhost:8080/"
        },
        "id": "797Vk5D-daMZ",
        "outputId": "f299dc4f-c21f-4b53-8cee-d6536a23c1ca"
      },
      "source": [
        "from google.colab import drive\n",
        "drive.mount('/content/drive')"
      ],
      "execution_count": null,
      "outputs": [
        {
          "output_type": "stream",
          "text": [
            "Drive already mounted at /content/drive; to attempt to forcibly remount, call drive.mount(\"/content/drive\", force_remount=True).\n"
          ],
          "name": "stdout"
        }
      ]
    },
    {
      "cell_type": "code",
      "metadata": {
        "id": "IZIczAjhWYup"
      },
      "source": [
        "import pandas as pd \n",
        "import numpy as np\n",
        "import csv"
      ],
      "execution_count": null,
      "outputs": []
    },
    {
      "cell_type": "code",
      "metadata": {
        "colab": {
          "base_uri": "https://localhost:8080/"
        },
        "id": "fg8uIPu2aLJd",
        "outputId": "7f2e11d7-a02a-4c94-d84e-0b060b0a376b"
      },
      "source": [
        "#Initialising input\n",
        "data = pd.read_csv('/content/drive/MyDrive/data.csv')\n",
        "d = np.array(data.iloc[:,0:-1])\n",
        "print(\"\\nInstances are:\\n\",d)\n",
        "target = np.array(data.iloc[:,-1])\n",
        "print(\"\\nTarget Values are: \",target)"
      ],
      "execution_count": null,
      "outputs": [
        {
          "output_type": "stream",
          "text": [
            "\n",
            "Instances are:\n",
            " [['Sunny' 'Warm' 'High' 'Strong' 'Warm' 'Same ']\n",
            " ['Rainy' 'Cold' 'High' 'Strong' 'Warm' 'Change']\n",
            " ['Sunny' 'Warm' 'High' 'Strong' 'Cool' 'Change']]\n",
            "\n",
            "Target Values are:  ['Yes' 'No' 'Yes']\n"
          ],
          "name": "stdout"
        }
      ]
    },
    {
      "cell_type": "code",
      "metadata": {
        "id": "JN88FZTRWg3v"
      },
      "source": [
        "#Training function to implement candidate elimination algorithm\n",
        "def learn(d, target): \n",
        "    specific_h = d[0].copy()\n",
        "    print(\"\\nSpecific Hypothesis: \", specific_h)\n",
        "    general_h = [[\"?\" for i in range(len(specific_h))] for i in range(len(specific_h))]\n",
        "    print(\"\\nGeneric Hypothesis: \",general_h)  \n",
        "\n",
        "    for i, h in enumerate(d):\n",
        "        print(\"\\nIteration\", i+1 , \"is \", h)\n",
        "        if target[i] == \"Yes\":\n",
        "            print(\"Instance is Positive \")\n",
        "            for x in range(len(specific_h)): \n",
        "                if h[x]!= specific_h[x]:                    \n",
        "                    specific_h[x] ='?'                     \n",
        "                    general_h[x][x] ='?'\n",
        "                   \n",
        "        if target[i] == \"No\":            \n",
        "            print(\"Instance is Negative \")\n",
        "            for x in range(len(specific_h)): \n",
        "                if h[x]!= specific_h[x]:                    \n",
        "                    general_h[x][x] = specific_h[x]                \n",
        "                else:                    \n",
        "                    general_h[x][x] = '?'        \n",
        "        \n",
        "        print(\"Specific Hypothesis after \", i+1, \"Instance is \", specific_h)         \n",
        "        print(\"Generic Hypothesis after \", i+1, \"Instance is \", general_h)\n",
        "        print(\"\\n\")\n",
        "\n",
        "    indices = [i for i, val in enumerate(general_h) if val == ['?', '?', '?', '?', '?', '?']]    \n",
        "    for i in indices:   \n",
        "        general_h.remove(['?', '?', '?', '?', '?', '?']) \n",
        "    return specific_h, general_h "
      ],
      "execution_count": null,
      "outputs": []
    },
    {
      "cell_type": "code",
      "metadata": {
        "colab": {
          "base_uri": "https://localhost:8080/"
        },
        "id": "xzU-YmKwcGnH",
        "outputId": "c0cd568e-479f-4a82-8667-cc7c1508fdf3"
      },
      "source": [
        "#Solution\n",
        "specific, general = learn(d, target)\n",
        "\n",
        "print(\"Final Specific Hypothesis: \", '<', ', '.join(specific),'>')\n",
        "print(\"Final General Hypothesis: \")\n",
        "for i in general:\n",
        "  print('<', ', '.join(i),'>, ')"
      ],
      "execution_count": null,
      "outputs": [
        {
          "output_type": "stream",
          "text": [
            "\n",
            "Specific Hypothesis:  ['Sunny' 'Warm' 'High' 'Strong' 'Warm' 'Same ']\n",
            "\n",
            "Generic Hypothesis:  [['?', '?', '?', '?', '?', '?'], ['?', '?', '?', '?', '?', '?'], ['?', '?', '?', '?', '?', '?'], ['?', '?', '?', '?', '?', '?'], ['?', '?', '?', '?', '?', '?'], ['?', '?', '?', '?', '?', '?']]\n",
            "\n",
            "Iteration 1 is  ['Sunny' 'Warm' 'High' 'Strong' 'Warm' 'Same ']\n",
            "Instance is Positive \n",
            "Specific Hypothesis after  1 Instance is  ['Sunny' 'Warm' 'High' 'Strong' 'Warm' 'Same ']\n",
            "Generic Hypothesis after  1 Instance is  [['?', '?', '?', '?', '?', '?'], ['?', '?', '?', '?', '?', '?'], ['?', '?', '?', '?', '?', '?'], ['?', '?', '?', '?', '?', '?'], ['?', '?', '?', '?', '?', '?'], ['?', '?', '?', '?', '?', '?']]\n",
            "\n",
            "\n",
            "\n",
            "Iteration 2 is  ['Rainy' 'Cold' 'High' 'Strong' 'Warm' 'Change']\n",
            "Instance is Negative \n",
            "Specific Hypothesis after  2 Instance is  ['Sunny' 'Warm' 'High' 'Strong' 'Warm' 'Same ']\n",
            "Generic Hypothesis after  2 Instance is  [['Sunny', '?', '?', '?', '?', '?'], ['?', 'Warm', '?', '?', '?', '?'], ['?', '?', '?', '?', '?', '?'], ['?', '?', '?', '?', '?', '?'], ['?', '?', '?', '?', '?', '?'], ['?', '?', '?', '?', '?', 'Same ']]\n",
            "\n",
            "\n",
            "\n",
            "Iteration 3 is  ['Sunny' 'Warm' 'High' 'Strong' 'Cool' 'Change']\n",
            "Instance is Positive \n",
            "Specific Hypothesis after  3 Instance is  ['Sunny' 'Warm' 'High' 'Strong' '?' '?']\n",
            "Generic Hypothesis after  3 Instance is  [['Sunny', '?', '?', '?', '?', '?'], ['?', 'Warm', '?', '?', '?', '?'], ['?', '?', '?', '?', '?', '?'], ['?', '?', '?', '?', '?', '?'], ['?', '?', '?', '?', '?', '?'], ['?', '?', '?', '?', '?', '?']]\n",
            "\n",
            "\n",
            "Final Specific Hypothesis:  < Sunny, Warm, High, Strong, ?, ? >\n",
            "Final General Hypothesis: \n",
            "< Sunny, ?, ?, ?, ?, ? >, \n",
            "< ?, Warm, ?, ?, ?, ? >, \n"
          ],
          "name": "stdout"
        }
      ]
    }
  ]
}