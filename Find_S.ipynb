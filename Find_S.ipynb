{
  "nbformat": 4,
  "nbformat_minor": 0,
  "metadata": {
    "colab": {
      "name": "Find S.ipynb",
      "provenance": [],
      "include_colab_link": true
    },
    "kernelspec": {
      "name": "python3",
      "display_name": "Python 3"
    }
  },
  "cells": [
    {
      "cell_type": "markdown",
      "metadata": {
        "id": "view-in-github",
        "colab_type": "text"
      },
      "source": [
        "<a href=\"https://colab.research.google.com/github/kk10-x/ML-Lab/blob/main/Find_S.ipynb\" target=\"_parent\"><img src=\"https://colab.research.google.com/assets/colab-badge.svg\" alt=\"Open In Colab\"/></a>"
      ]
    },
    {
      "cell_type": "code",
      "metadata": {
        "colab": {
          "base_uri": "https://localhost:8080/"
        },
        "id": "bzFXe7oSeDHg",
        "outputId": "3fbc9cb2-6dac-45df-c9f4-bc752d761175"
      },
      "source": [
        "import pandas as pd\n",
        "import numpy as np\n",
        "data = pd.read_csv(\"/content/data.csv\")\n",
        "print(data,\"n\")\n",
        "d = np.array(data)[:,:-1]\n",
        "print(\"n The attributes are: \",d)\n",
        "target = np.array(data)[:,-1]\n",
        "print(\"n The target is: \",target)\n",
        "def train(c,t):\n",
        "    for i, val in enumerate(t):\n",
        "        if val == \"Yes\":\n",
        "            specific_hypothesis = c[i].copy()\n",
        "            break\n",
        "    for i, val in enumerate(c):\n",
        "        if t[i] == \"Yes\":\n",
        "            for x in range(len(specific_hypothesis)):\n",
        "                if val[x] != specific_hypothesis[x]:\n",
        "                    specific_hypothesis[x] = '?'\n",
        "                else:\n",
        "                    pass\n",
        "    return specific_hypothesis\n",
        "print(\"n The final hypothesis is:\",train(d,target))"
      ],
      "execution_count": null,
      "outputs": [
        {
          "output_type": "stream",
          "text": [
            "   Sunny  Warm Normal   Strong Warm.1   Same   Yes\n",
            "0  Sunny  Warm    High  Strong   Warm   Same   Yes\n",
            "1  Rainy  Cold    High  Strong   Warm  Change   No\n",
            "2  Sunny  Warm    High  Strong   Cool  Change  Yes n\n",
            "n The attributes are:  [['Sunny' 'Warm' 'High' 'Strong' 'Warm' 'Same ']\n",
            " ['Rainy' 'Cold' 'High' 'Strong' 'Warm' 'Change']\n",
            " ['Sunny' 'Warm' 'High' 'Strong' 'Cool' 'Change']]\n",
            "n The target is:  ['Yes' 'No' 'Yes']\n",
            "n The final hypothesis is: ['Sunny' 'Warm' 'High' 'Strong' '?' '?']\n"
          ],
          "name": "stdout"
        }
      ]
    }
  ]
}